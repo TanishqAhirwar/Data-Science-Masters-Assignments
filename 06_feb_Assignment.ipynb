{
 "cells": [
  {
   "cell_type": "markdown",
   "id": "a8c2016c",
   "metadata": {},
   "source": [
    "#### 1. Create a function which will take a list as an argument and return the product of all the numbers after creating a flat list. Use the below-given list as an argument for your function. list1 = [1,2,3,4, [44,55,66, True], False, (34,56,78,89,34), {1,2,3,3,2,1}, {1:34, \"key2\": [55, 67, 78, 89], 4: (45,22, 61, 34)}, [56, 'data science'], 'Machine Learning']  Note: you must extract numeric keys and values of the dictionary also."
   ]
  },
  {
   "cell_type": "code",
   "execution_count": 1,
   "id": "d475af00",
   "metadata": {},
   "outputs": [
    {
     "name": "stdout",
     "output_type": "stream",
     "text": [
      "4134711838987085478833841242112000\n"
     ]
    }
   ],
   "source": [
    "\n",
    "def flat_list(list1):\n",
    "    flate = []\n",
    "    for i in list1:\n",
    "        if type(i) == int  or type(i) == float:\n",
    "            flate.append(i)\n",
    "        elif type(i) == list or type(i) == set or type(i) == tuple:\n",
    "            for j in i:\n",
    "                if type(j) == int or type(j) == float:\n",
    "                    flate.append(j)\n",
    "        elif type(i) == dict:\n",
    "            for k in i.items():\n",
    "                if type(k[0]) == int  or type(k[0]) == float:\n",
    "                    flate.append(k[0])\n",
    "                if type(k[1]) == int  or type(k[1]) == float:\n",
    "                    flate.append(k[1])\n",
    "                else:\n",
    "                    for l in k[1]:\n",
    "                        flate.append(l)\n",
    "    #return flate\n",
    "    \n",
    "    product = 1\n",
    "    for num in flate:\n",
    "        product *= num\n",
    "    return product \n",
    "    \n",
    "\n",
    "list1 = [1,2,3,4,[44,55,66,True],False,(34,56,78,89,34),{1,2,3,3,2,1},{1:34, \"key2\":[55,67,78,89],4:(45,22,61,34)},[56,'data science'],'machine learning']\n",
    "a = flat_list(list1)\n",
    "print(a)"
   ]
  },
  {
   "cell_type": "markdown",
   "id": "e7ccf9d5",
   "metadata": {},
   "source": [
    "#### Q2. Write a python program for encrypting a message sent to you by your friend. The logic of encryption should be such that, for a the output should be z. For b, the output should be y. For c, the output should be x respectively. Also, the whitespace should be replaced with a dollar sign. Keep the punctuation marks unchanged. Input Sentence: I want to become a Data Scientist. Encrypt the above input sentence using the program you just created. Note: Convert the given input sentence into lowercase before encrypting. The final output should be lowercase."
   ]
  },
  {
   "cell_type": "code",
   "execution_count": 33,
   "id": "12440683",
   "metadata": {},
   "outputs": [
    {
     "name": "stdout",
     "output_type": "stream",
     "text": [
      "Message:  I want to become a Data Scientist.\n",
      "encrypted message:  i$wznt$to$yexome$z$dztz$sxientist.\n"
     ]
    }
   ],
   "source": [
    "def encrpt_program(string):\n",
    "    \n",
    "    for i in string:\n",
    "        if i == \"a\":\n",
    "            string = string.replace(\"a\",\"z\")\n",
    "        elif i == \" \":\n",
    "            string = string.replace(\" \", \"$\")\n",
    "        elif i == \"b\":\n",
    "            string = string.replace(\"b\",\"y\")\n",
    "        elif i == \"c\":\n",
    "            string = string.replace(\"c\",\"x\")\n",
    "        \n",
    "    return string\n",
    "\n",
    "\n",
    "string = \"I want to become a Data Scientist.\"\n",
    "print(\"Message: \", string)\n",
    "sv = string.lower()\n",
    "result = encrpt_program(sv)\n",
    "print(\"encrypted message: \",result)"
   ]
  },
  {
   "cell_type": "code",
   "execution_count": null,
   "id": "3573904c",
   "metadata": {},
   "outputs": [],
   "source": []
  },
  {
   "cell_type": "code",
   "execution_count": null,
   "id": "1a2f8ab8",
   "metadata": {},
   "outputs": [],
   "source": []
  }
 ],
 "metadata": {
  "kernelspec": {
   "display_name": "Python 3 (ipykernel)",
   "language": "python",
   "name": "python3"
  },
  "language_info": {
   "codemirror_mode": {
    "name": "ipython",
    "version": 3
   },
   "file_extension": ".py",
   "mimetype": "text/x-python",
   "name": "python",
   "nbconvert_exporter": "python",
   "pygments_lexer": "ipython3",
   "version": "3.11.0"
  }
 },
 "nbformat": 4,
 "nbformat_minor": 5
}
