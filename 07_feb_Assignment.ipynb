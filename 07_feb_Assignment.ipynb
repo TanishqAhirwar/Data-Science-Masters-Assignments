{
 "cells": [
  {
   "cell_type": "markdown",
   "id": "376f1b4f",
   "metadata": {},
   "source": [
    "#### Q1. You are writing code for a company. The requirement of the company is that you create a python function that will check whether the password entered by the user is correct or not. The function should take the password as input and return the string “Valid Password” if the entered password follows the below-given password guidelines else it should return “Invalid Password”.\n",
    "\n",
    "\n",
    "Note: 1. The Password should contain at least two uppercase letters and at least two lowercase letters.\n",
    "\n",
    "2. The Password should contain at least a number and three special characters.\n",
    "\n",
    "\n",
    "3. The length of the password should be 10 characters long."
   ]
  },
  {
   "cell_type": "code",
   "execution_count": 30,
   "id": "0384670b",
   "metadata": {},
   "outputs": [
    {
     "name": "stdout",
     "output_type": "stream",
     "text": [
      "Valid Password\n"
     ]
    }
   ],
   "source": [
    "import re\n",
    "\n",
    "def check_password(password):\n",
    "    if len(password) != 10:\n",
    "        return \"Invalid Password\"\n",
    "    upper_count = sum(1 for c in password if c.isupper())\n",
    "    lower_count = sum(1 for c in password if c.islower())\n",
    "    if upper_count < 2 or lower_count < 2:\n",
    "        return \"Invalid Password\"\n",
    "    digit_count = sum(1 for c in password if c.isdigit())\n",
    "    special_count = len(re.findall(\"[^a-zA-Z0-9]\", password))\n",
    "    if digit_count < 1 or special_count < 3:\n",
    "        return \"Invalid Password\"\n",
    "    return \"Valid Password\"\n",
    "\n",
    "\n",
    "password = \"ABgh#$%788\"\n",
    "res = check_password(password)\n",
    "print(res)"
   ]
  },
  {
   "cell_type": "markdown",
   "id": "a85963d0",
   "metadata": {},
   "source": [
    "#### Q2. Solve the below-given questions using at least one of the following:\n",
    "\n",
    "1. Lambda function\n",
    "\n",
    "2. Filter function\n",
    "\n",
    "3. Map function\n",
    "\n",
    "4. List Comprehension\n",
    "\n",
    "Check if the string starts with a particular letter.\n",
    "\n",
    "Check if the string is numeric.\n",
    "\n",
    "Sort a list of tuples having fruit names and their quantity. [(\"mango\",99),(\"orange\",80), (\"grapes\", 1000)]\n",
    "\n",
    "Find the squares of numbers from 1 to 10\n",
    "\n",
    "Find the cube root of numbers from 1 to 10\n",
    "\n",
    "Check if a given number is even\n",
    "\n",
    "Filter odd numbers from the given list. [1,2,3,4,5,6,7,8,9,10]\n",
    "\n",
    "Sort a list of integers into positive and negative integers lists.\n",
    "\n",
    "[1,2,3,4,5,6,-1,-2,-3,-4,-5,0]"
   ]
  },
  {
   "cell_type": "code",
   "execution_count": 4,
   "id": "56040afd",
   "metadata": {},
   "outputs": [
    {
     "name": "stdout",
     "output_type": "stream",
     "text": [
      "The string is numeric\n"
     ]
    }
   ],
   "source": [
    "## Check if the string starts with a particular letter.\n",
    "is_numeric = lambda s: s.isnumeric()\n",
    "\n",
    "my_string = \"123\"\n",
    "if is_numeric(my_string):\n",
    "    print(\"The string is numeric\")\n",
    "else:\n",
    "    print(\"The string is not numeric\")"
   ]
  },
  {
   "cell_type": "code",
   "execution_count": 24,
   "id": "fa918bbb",
   "metadata": {},
   "outputs": [
    {
     "name": "stdout",
     "output_type": "stream",
     "text": [
      "Enter string: Hello\n",
      "The string starts with 'H'\n"
     ]
    }
   ],
   "source": [
    "## Check if the string is numeric.\n",
    "my_string = input(\"Enter string: \")\n",
    "starts_with_H = lambda s: s.startswith(\"H\")\n",
    "if starts_with_H(my_string):\n",
    "    print(\"The string starts with 'H'\")\n",
    "else:\n",
    "    print(\"The string does not start with 'H'\")\n"
   ]
  },
  {
   "cell_type": "code",
   "execution_count": 9,
   "id": "6fe58696",
   "metadata": {},
   "outputs": [
    {
     "name": "stdout",
     "output_type": "stream",
     "text": [
      "[('orange', 80), ('mango', 99), ('grapes', 1000)]\n"
     ]
    }
   ],
   "source": [
    "## Sort a list of tuples having fruit names and their quantity. [(\"mango\",99),(\"orange\",80), (\"grapes\", 1000)]\n",
    "\n",
    "fruits = [(\"mango\",99),(\"orange\",80),(\"grapes\",1000)]\n",
    "sorted_fruits = sorted(fruits, key=lambda x: x[1])\n",
    "print(sorted_fruits)"
   ]
  },
  {
   "cell_type": "code",
   "execution_count": 15,
   "id": "ddf91f9b",
   "metadata": {},
   "outputs": [
    {
     "data": {
      "text/plain": [
       "[1, 4, 9, 16, 25, 36, 49, 64, 81, 100]"
      ]
     },
     "execution_count": 15,
     "metadata": {},
     "output_type": "execute_result"
    }
   ],
   "source": [
    "## Find the squares of numbers from 1 to 10\n",
    "\n",
    "square_number = [x**2 for x in range(1,11)]\n",
    "square_number"
   ]
  },
  {
   "cell_type": "code",
   "execution_count": 16,
   "id": "0ce2d315",
   "metadata": {},
   "outputs": [
    {
     "data": {
      "text/plain": [
       "[1.0,\n",
       " 1.2599210498948732,\n",
       " 1.4422495703074083,\n",
       " 1.5874010519681994,\n",
       " 1.7099759466766968,\n",
       " 1.8171205928321397,\n",
       " 1.912931182772389,\n",
       " 2.0,\n",
       " 2.080083823051904,\n",
       " 2.154434690031884]"
      ]
     },
     "execution_count": 16,
     "metadata": {},
     "output_type": "execute_result"
    }
   ],
   "source": [
    "## Find the cube root of numbers from 1 to 10\n",
    "\n",
    "cube_root = [x ** (1/3) for x in range(1,11)]\n",
    "cube_root"
   ]
  },
  {
   "cell_type": "code",
   "execution_count": 22,
   "id": "44a8af11",
   "metadata": {},
   "outputs": [
    {
     "name": "stdout",
     "output_type": "stream",
     "text": [
      "Enter the number: 9\n",
      "9 is not an even number.\n"
     ]
    }
   ],
   "source": [
    "## Check if a given number is even\n",
    "\n",
    "num = int(input(\"Enter the number: \"))\n",
    "even_number = lambda num : num % 2 == 0\n",
    "if even_number(num):\n",
    "    print(f\"{num} is even number.\")\n",
    "else:\n",
    "    print(f\"{num} is not an even number.\")"
   ]
  },
  {
   "cell_type": "code",
   "execution_count": 27,
   "id": "a37f8402",
   "metadata": {},
   "outputs": [
    {
     "data": {
      "text/plain": [
       "[1, 3, 5, 7, 9]"
      ]
     },
     "execution_count": 27,
     "metadata": {},
     "output_type": "execute_result"
    }
   ],
   "source": [
    "## Filter odd numbers from the given list. [1,2,3,4,5,6,7,8,9,10]\n",
    "\n",
    "lst = [1,2,3,4,5,6,7,8,9,10]\n",
    "list(filter(lambda x : x % 2 !=0 , lst))"
   ]
  },
  {
   "cell_type": "code",
   "execution_count": 40,
   "id": "f4573cb2",
   "metadata": {},
   "outputs": [
    {
     "data": {
      "text/plain": [
       "([-1, -2, -3, -4, -5], [1, 2, 3, 4, 5, 6])"
      ]
     },
     "execution_count": 40,
     "metadata": {},
     "output_type": "execute_result"
    }
   ],
   "source": [
    "##Sort a list of integers into positive and negative integers lists. [1,2,3,4,5,6,-1,-2,-3,-4,-5,0]\n",
    "\n",
    "lst1 = [1,2,3,4,5,6,-1,-2,-3,-4,-5,0]\n",
    "\n",
    "B,C=[i for i in lst1 if i<0 ],[j for j in lst1 if j>0]\n",
    "B,C"
   ]
  },
  {
   "cell_type": "code",
   "execution_count": null,
   "id": "3fe94da0",
   "metadata": {},
   "outputs": [],
   "source": []
  }
 ],
 "metadata": {
  "kernelspec": {
   "display_name": "Python 3 (ipykernel)",
   "language": "python",
   "name": "python3"
  },
  "language_info": {
   "codemirror_mode": {
    "name": "ipython",
    "version": 3
   },
   "file_extension": ".py",
   "mimetype": "text/x-python",
   "name": "python",
   "nbconvert_exporter": "python",
   "pygments_lexer": "ipython3",
   "version": "3.11.0"
  }
 },
 "nbformat": 4,
 "nbformat_minor": 5
}
