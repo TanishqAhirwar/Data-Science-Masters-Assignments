{
 "cells": [
  {
   "cell_type": "markdown",
   "id": "8fa6984e",
   "metadata": {},
   "source": [
    "### Q1. What is an Exception in python? Write the difference between Exceptions and syntax errors?"
   ]
  },
  {
   "cell_type": "markdown",
   "id": "90c3d119",
   "metadata": {},
   "source": [
    "An Exception is an error that happens during the execution of a program. Whenever there is an error, Python generates an exception that could be handled. It basically prevents the program from getting crashed."
   ]
  },
  {
   "cell_type": "markdown",
   "id": "4f66ce18",
   "metadata": {},
   "source": [
    "Syntax errors\n",
    "\n",
    "When the proper syntax of the language is not followed then a syntax error is thrown.\n",
    "Example "
   ]
  },
  {
   "cell_type": "code",
   "execution_count": 2,
   "id": "260d3fb0",
   "metadata": {},
   "outputs": [
    {
     "ename": "SyntaxError",
     "evalue": "expected ':' (1040780485.py, line 6)",
     "output_type": "error",
     "traceback": [
      "\u001b[1;36m  Cell \u001b[1;32mIn [2], line 6\u001b[1;36m\u001b[0m\n\u001b[1;33m    if(amount>2999)\u001b[0m\n\u001b[1;37m                   ^\u001b[0m\n\u001b[1;31mSyntaxError\u001b[0m\u001b[1;31m:\u001b[0m expected ':'\n"
     ]
    }
   ],
   "source": [
    "#initialize the amount variable\n",
    "amount = 10000\n",
    "\n",
    "#check that You are eligible to\n",
    "#purchase Dsa Self Paced or not\n",
    "if(amount>2999)\n",
    "    print(\"You are eligible to purchase Dsa Self Paced\")"
   ]
  },
  {
   "cell_type": "markdown",
   "id": "f3899fd1",
   "metadata": {},
   "source": [
    "It returns a syntax error message because after the if statement a colon: is missing. We can fix this by writing the correct syntax.\n",
    " "
   ]
  },
  {
   "cell_type": "markdown",
   "id": "723f1c85",
   "metadata": {},
   "source": [
    "logical errors(Exception)\n",
    "\n",
    "When in the runtime an error that occurs after passing the syntax test is called exception or logical type. For example, when we divide any number by zero then the ZeroDivisionError exception is raised, or when we import a module that does not exist then ImportError is raised.\n",
    "Example 1: "
   ]
  },
  {
   "cell_type": "code",
   "execution_count": 3,
   "id": "d9fdcec8",
   "metadata": {},
   "outputs": [
    {
     "ename": "ZeroDivisionError",
     "evalue": "division by zero",
     "output_type": "error",
     "traceback": [
      "\u001b[1;31m---------------------------------------------------------------------------\u001b[0m",
      "\u001b[1;31mZeroDivisionError\u001b[0m                         Traceback (most recent call last)",
      "Cell \u001b[1;32mIn [3], line 5\u001b[0m\n\u001b[0;32m      2\u001b[0m marks \u001b[38;5;241m=\u001b[39m \u001b[38;5;241m10000\u001b[39m\n\u001b[0;32m      4\u001b[0m \u001b[38;5;66;03m# perform division with 0\u001b[39;00m\n\u001b[1;32m----> 5\u001b[0m a \u001b[38;5;241m=\u001b[39m \u001b[43mmarks\u001b[49m\u001b[43m \u001b[49m\u001b[38;5;241;43m/\u001b[39;49m\u001b[43m \u001b[49m\u001b[38;5;241;43m0\u001b[39;49m\n\u001b[0;32m      6\u001b[0m \u001b[38;5;28mprint\u001b[39m(a)\n",
      "\u001b[1;31mZeroDivisionError\u001b[0m: division by zero"
     ]
    }
   ],
   "source": [
    "# initialize the amount variable\n",
    "marks = 10000\n",
    "\n",
    "# perform division with 0\n",
    "a = marks / 0\n",
    "print(a)\n"
   ]
  },
  {
   "cell_type": "markdown",
   "id": "c3aa7ec6",
   "metadata": {},
   "source": [
    "In the above example the ZeroDivisionError as we are trying to divide a number by 0."
   ]
  },
  {
   "cell_type": "markdown",
   "id": "f45122a7",
   "metadata": {},
   "source": [
    "### Q2. What happens when an exception is not handled? Explain with an example."
   ]
  },
  {
   "cell_type": "markdown",
   "id": "261a4ba4",
   "metadata": {},
   "source": [
    "In Python, when an exception is not handled, it results in what is called an \"unhandled exception.\" When an unhandled exception occurs, the Python interpreter prints a traceback to the console, which includes information about the exception type, the line of code where the exception occurred, and the call stack.\n",
    "\n",
    "Here's an example to illustrate what happens when an exception is not handled in Python:\n",
    "\n",
    "```python\n",
    "def divide(a, b):\n",
    "    return a / b\n",
    "\n",
    "try:\n",
    "    result = divide(10, 0)  # This will raise a ZeroDivisionError\n",
    "    print(\"Result:\", result)\n",
    "except ValueError as e:\n",
    "    print(\"Caught a ValueError:\", e)\n",
    "\n",
    "# The following code will not execute because the exception above is not caught.\n",
    "print(\"Program continues after the exception.\")\n",
    "```\n",
    "\n",
    "In this example, the `divide` function attempts to perform a division operation. However, when the second argument is 0, it raises a `ZeroDivisionError` exception because division by zero is not allowed in Python. Since there is no `except` block that specifically handles this exception, it becomes an unhandled exception.\n",
    "\n",
    "When this code is executed, it will produce the following output:\n",
    "\n",
    "```\n",
    "Traceback (most recent call last):\n",
    "  File \"example.py\", line 4, in <module>\n",
    "    result = divide(10, 0)\n",
    "  File \"example.py\", line 2, in divide\n",
    "    return a / b\n",
    "ZeroDivisionError: division by zero\n",
    "```\n",
    "\n",
    "As you can see, Python provides a traceback that shows where the exception occurred (in the `divide` function), what type of exception it is (a `ZeroDivisionError`), and the line of code that caused the exception.\n",
    "\n",
    "After the unhandled exception is raised, the program will terminate, and any subsequent code after the `try` block will not execute. It's essential to handle exceptions properly in your code to gracefully handle errors and prevent unexpected program termination."
   ]
  },
  {
   "cell_type": "markdown",
   "id": "53474cfa",
   "metadata": {},
   "source": [
    "### Q3. Which Python statements are used to catch and handle exceptions? Explain with an example."
   ]
  },
  {
   "cell_type": "markdown",
   "id": "95aa72fc",
   "metadata": {},
   "source": [
    "In Python, you can catch and handle exceptions using the `try` and `except` statements. These statements allow you to gracefully handle errors or exceptional situations in your code. Here's how they work:\n",
    "\n",
    "1. `try` block: The code that might raise an exception is placed inside a `try` block. If an exception occurs within this block, Python immediately jumps to the corresponding `except` block.\n",
    "\n",
    "2. `except` block: This block contains the code that is executed when a specific exception is raised in the associated `try` block. You can specify the type of exception you want to catch after the `except` keyword, or use a generic `except` block to catch all exceptions.\n",
    "\n",
    "Here's an example of using `try` and `except` to catch and handle an exception:\n",
    "\n",
    "```python\n",
    "try:\n",
    "    # Code that might raise an exception\n",
    "    num1 = int(input(\"Enter a number: \"))\n",
    "    num2 = int(input(\"Enter another number: \"))\n",
    "    \n",
    "    result = num1 / num2\n",
    "    \n",
    "    # If num2 is 0, a ZeroDivisionError will be raised\n",
    "    print(\"Result:\", result)\n",
    "\n",
    "except ValueError:\n",
    "    # Handle a ValueError (e.g., user enters a non-integer)\n",
    "    print(\"Invalid input. Please enter a valid integer.\")\n",
    "\n",
    "except ZeroDivisionError:\n",
    "    # Handle a ZeroDivisionError (e.g., division by zero)\n",
    "    print(\"Error: Division by zero is not allowed.\")\n",
    "\n",
    "except Exception as e:\n",
    "    # Handle any other exceptions (generic exception handler)\n",
    "    print(\"An error occurred:\", str(e))\n",
    "\n",
    "print(\"Program continues after handling exceptions.\")\n",
    "```\n",
    "\n",
    "In this example:\n",
    "\n",
    "- The `try` block attempts to perform some calculations with user-inputted numbers.\n",
    "- If the user enters a non-integer, a `ValueError` will be raised, and the code in the first `except` block will execute.\n",
    "- If the user enters 0 as the second number, a `ZeroDivisionError` will be raised, and the code in the second `except` block will execute.\n",
    "- The third `except` block serves as a generic exception handler that can catch any other exceptions not explicitly handled.\n",
    "- After handling the exception, the program continues to execute any code following the `try-except` blocks.\n",
    "\n",
    "Using `try` and `except` statements allows you to handle errors gracefully and provide informative error messages to users, ensuring that your program doesn't crash when exceptions occur."
   ]
  },
  {
   "cell_type": "markdown",
   "id": "6c844d93",
   "metadata": {},
   "source": [
    "### Q4. Explain with an example:\n",
    "    a. try and else\n",
    "    b. finally\n",
    "    c. raise"
   ]
  },
  {
   "cell_type": "markdown",
   "id": "7ec57e09",
   "metadata": {},
   "source": [
    "a. `try` and `except`:\n",
    "   The `try` and `except` blocks are used to handle exceptions and errors that may occur during the execution of a program. You place the potentially problematic code inside the `try` block, and if an exception is raised, you can catch and handle it in the `except` block.\n",
    "\n",
    "   Example:\n",
    "\n",
    "```python\n",
    "try:\n",
    "    num = int(input(\"Enter a number: \"))\n",
    "    result = 10 / num\n",
    "    print(\"Result:\", result)\n",
    "\n",
    "except ZeroDivisionError:\n",
    "    print(\"Error: Division by zero is not allowed.\")\n",
    "    \n",
    "except ValueError:\n",
    "    print(\"Error: Please enter a valid integer.\")\n",
    "\n",
    "print(\"Program continues after handling exceptions.\")\n",
    "```\n",
    "\n",
    "In this example, if the user enters 0 or a non-integer, the program will catch and handle the respective exceptions (`ZeroDivisionError` and `ValueError`) using the `except` blocks.\n",
    "\n",
    "b. `finally`:\n",
    "   The `finally` block is used to specify code that must be executed regardless of whether an exception was raised or not. It's often used for cleanup tasks or resource release.\n",
    "\n",
    "   Example:\n",
    "\n",
    "```python\n",
    "try:\n",
    "    file = open(\"example.txt\", \"r\")\n",
    "    data = file.read()\n",
    "    print(data)\n",
    "\n",
    "except FileNotFoundError:\n",
    "    print(\"Error: The file does not exist.\")\n",
    "\n",
    "finally:\n",
    "    file.close()\n",
    "    print(\"File closed.\")\n",
    "\n",
    "print(\"Program continues after handling file operations.\")\n",
    "```\n",
    "\n",
    "In this example, whether the file is successfully opened and read or not, the `finally` block ensures that the file is closed, preventing resource leaks.\n",
    "\n",
    "c. `raise`:\n",
    "   The `raise` statement allows you to manually raise an exception in your code. You can use it when you want to indicate an error or exceptional situation based on your application's logic.\n",
    "\n",
    "   Example:\n",
    "\n",
    "```python\n",
    "def calculate_discount(price):\n",
    "    if price < 0:\n",
    "        raise ValueError(\"Price cannot be negative\")\n",
    "    if price > 100:\n",
    "        raise Exception(\"Discount not applicable for high-priced items\")\n",
    "    \n",
    "    discount = price * 0.1\n",
    "    return price - discount\n",
    "\n",
    "try:\n",
    "    item_price = float(input(\"Enter the item price: \"))\n",
    "    discounted_price = calculate_discount(item_price)\n",
    "    print(\"Discounted price:\", discounted_price)\n",
    "\n",
    "except ValueError as ve:\n",
    "    print(\"ValueError:\", ve)\n",
    "\n",
    "except Exception as e:\n",
    "    print(\"An error occurred:\", e)\n",
    "```\n",
    "\n",
    "In this example, the `calculate_discount` function uses the `raise` statement to raise exceptions based on the price value. If the price is negative or too high, custom exceptions are raised, and you can catch and handle them in the `try-except` blocks.\n",
    "\n",
    "These concepts help you manage exceptions, ensure resource cleanup, and handle errors gracefully in your Python programs."
   ]
  },
  {
   "cell_type": "markdown",
   "id": "f209d562",
   "metadata": {},
   "source": [
    "### Q5. What are Custom Exceptions in python? Why do we need Custom Exceptions? Explain with an example."
   ]
  },
  {
   "cell_type": "markdown",
   "id": "a4aa12ac",
   "metadata": {},
   "source": [
    "Custom exceptions, also known as user-defined exceptions, are exceptions that you define yourself in Python. These exceptions allow you to create your own error types or categories to handle specific situations in your code. While Python provides a wide range of built-in exceptions like `ValueError`, `TypeError`, and `ZeroDivisionError`, custom exceptions can be valuable when you need to represent errors or exceptional cases that are specific to your application or library.\n",
    "\n",
    "Here's why you might need custom exceptions:\n",
    "\n",
    "1. **Clearer Error Handling**: Custom exceptions make your code more readable and maintainable by providing descriptive names for specific error scenarios. When someone reads your code or error messages, they can understand the nature of the problem more easily.\n",
    "\n",
    "2. **Better Abstraction**: Custom exceptions help abstract away implementation details. If you're building a library or module, you can use custom exceptions to shield users from low-level errors and provide a more user-friendly interface.\n",
    "\n",
    "3. **Consistency**: They allow you to enforce consistency in error handling across your codebase or project, making it easier to maintain and debug.\n",
    "\n",
    "Here's an example of creating and using a custom exception:\n",
    "\n",
    "```python\n",
    "class InsufficientFundsError(Exception):\n",
    "    \"\"\"Custom exception for insufficient funds in an account.\"\"\"\n",
    "    def __init__(self, balance, required):\n",
    "        super().__init__(f\"Insufficient funds: Balance is {balance}, required {required}\")\n",
    "        self.balance = balance\n",
    "        self.required = required\n",
    "\n",
    "def withdraw(account_balance, amount):\n",
    "    if account_balance < amount:\n",
    "        raise InsufficientFundsError(account_balance, amount)\n",
    "    else:\n",
    "        return account_balance - amount\n",
    "\n",
    "try:\n",
    "    balance = 100\n",
    "    withdraw_amount = 150\n",
    "    new_balance = withdraw(balance, withdraw_amount)\n",
    "    print(f\"Withdrew {withdraw_amount}. New balance: {new_balance}\")\n",
    "except InsufficientFundsError as e:\n",
    "    print(f\"Error: {e}\")\n",
    "```\n",
    "\n",
    "In this example:\n",
    "\n",
    "- We define a custom exception `InsufficientFundsError` that inherits from the built-in `Exception` class.\n",
    "- The `withdraw` function simulates a bank withdrawal. If the balance is insufficient, it raises the `InsufficientFundsError` custom exception with a message indicating the balance and the required amount.\n",
    "- In the `try-except` block, we attempt to withdraw an amount that exceeds the balance. This raises our custom exception, and we catch and handle it in the `except` block, providing a user-friendly error message.\n",
    "\n",
    "Custom exceptions like `InsufficientFundsError` make it clear why an error occurred and allow you to create a consistent error-handling strategy throughout your codebase."
   ]
  },
  {
   "cell_type": "code",
   "execution_count": 1,
   "id": "c57055ff",
   "metadata": {},
   "outputs": [
    {
     "name": "stdout",
     "output_type": "stream",
     "text": [
      "Enter your age: 12\n",
      "Valid age: 12\n"
     ]
    }
   ],
   "source": [
    "class InvalidAgeError(Exception):\n",
    "    \"\"\"Custom exception for invalid age.\"\"\"\n",
    "    def __init__(self, age):\n",
    "        super().__init__(f\"Invalid age: {age}. Age must be between 0 and 120.\")\n",
    "        self.age = age\n",
    "\n",
    "def validate_age(age):\n",
    "    if age < 0 or age > 120:\n",
    "        raise InvalidAgeError(age)\n",
    "    else:\n",
    "        print(f\"Valid age: {age}\")\n",
    "\n",
    "try:\n",
    "    user_age = int(input(\"Enter your age: \"))\n",
    "    validate_age(user_age)\n",
    "except InvalidAgeError as e:\n",
    "    print(f\"Error: {e}\")\n",
    "except ValueError:\n",
    "    print(\"Error: Please enter a valid integer for age.\")\n"
   ]
  },
  {
   "cell_type": "markdown",
   "id": "61a30144",
   "metadata": {},
   "source": [
    "In this code:\n",
    "\n",
    "    We define a custom exception class InvalidAgeError that inherits from the built-in Exception class. It includes an informative error message with the invalid age provided.\n",
    "\n",
    "    The validate_age function takes an age as input and raises the InvalidAgeError custom exception if the age is not within the valid range of 0 to 120.\n",
    "\n",
    "    In the try-except block, we attempt to get the user's age as input and call the validate_age function. If the age is invalid, it raises the InvalidAgeError, which is then caught and handled in the except block, displaying an error message.\n",
    "\n",
    "    We also have a separate except block to handle the case where the user enters a non-integer value for age, raising a ValueError.\n",
    "\n",
    "This example demonstrates how you can create and use a custom exception class to handle specific error cases in your Python code. Custom exceptions make your error handling more informative and maintainable."
   ]
  },
  {
   "cell_type": "code",
   "execution_count": null,
   "id": "a15f6a0f",
   "metadata": {},
   "outputs": [],
   "source": []
  }
 ],
 "metadata": {
  "kernelspec": {
   "display_name": "Python 3 (ipykernel)",
   "language": "python",
   "name": "python3"
  },
  "language_info": {
   "codemirror_mode": {
    "name": "ipython",
    "version": 3
   },
   "file_extension": ".py",
   "mimetype": "text/x-python",
   "name": "python",
   "nbconvert_exporter": "python",
   "pygments_lexer": "ipython3",
   "version": "3.11.0"
  }
 },
 "nbformat": 4,
 "nbformat_minor": 5
}
