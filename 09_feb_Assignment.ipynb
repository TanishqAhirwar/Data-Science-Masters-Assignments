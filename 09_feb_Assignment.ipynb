{
 "cells": [
  {
   "cell_type": "markdown",
   "id": "8bf138ea",
   "metadata": {},
   "source": [
    "#### Q1. Create a vehicle class with an init method having instance variables as name_of_vehicle, max_speed and average_of_vehicle."
   ]
  },
  {
   "cell_type": "code",
   "execution_count": 3,
   "id": "348a1776",
   "metadata": {},
   "outputs": [],
   "source": [
    "class Vehicle:\n",
    "    def __init__(self, name_of_vehicle, max_speed, average_of_vehicle):\n",
    "        self.name_of_vehicle = name_of_vehicle\n",
    "        self.max_speed = max_speed\n",
    "        self.average_of_vehicle = average_of_vehicle\n"
   ]
  },
  {
   "cell_type": "markdown",
   "id": "666e9f75",
   "metadata": {},
   "source": [
    "#### Q2. Create a child class car from the vehicle class created in Que 1, which will inherit the vehicle class. Create a method named seating_capacity which takes capacity as an argument and returns the name of the vehicle and its seating capacity."
   ]
  },
  {
   "cell_type": "code",
   "execution_count": 11,
   "id": "22385bf0",
   "metadata": {},
   "outputs": [
    {
     "name": "stdout",
     "output_type": "stream",
     "text": [
      "Sedan has a seating capacity of 5 passengers.\n"
     ]
    }
   ],
   "source": [
    "class Car(Vehicle):\n",
    "    \n",
    "    def seating_capacity(self, capacity):\n",
    "        return f\"{self.name_of_vehicle} has a seating capacity of {capacity} passengers.\"\n",
    "        \n",
    "sedan = Car(\"Sedan\", 180, 60)\n",
    "print(sedan.seating_capacity(5))"
   ]
  },
  {
   "cell_type": "markdown",
   "id": "d99ee2dd",
   "metadata": {},
   "source": [
    "#### Q3. What is multiple inheritance? Write a python code to demonstrate multiple inheritance."
   ]
  },
  {
   "cell_type": "markdown",
   "id": "deeff74d",
   "metadata": {},
   "source": [
    "Multiple Inheritance: When a class is derived from more than one base class it is called multiple Inheritance. The derived class inherits all the features of the base case."
   ]
  },
  {
   "cell_type": "code",
   "execution_count": 12,
   "id": "4631b147",
   "metadata": {},
   "outputs": [
    {
     "name": "stdout",
     "output_type": "stream",
     "text": [
      "This is class1\n",
      "This is class2\n",
      "This is class3\n"
     ]
    }
   ],
   "source": [
    "# creating class1\n",
    "class class1():\n",
    "    # writing a method for parent class 1\n",
    "    def display_1(self):\n",
    "        print(\"This is class1\")\n",
    "\n",
    "# creating a class2\n",
    "class class2():\n",
    "    # method for parent class 2\n",
    "    def display_2(self):\n",
    "        print(\"This is class2\")\n",
    "\n",
    "# creating derived class\n",
    "class Child(class1, class2):\n",
    "    def display_3(self):\n",
    "        print(\"This is class3\")\n",
    "\n",
    "# creating object of the new derived class\n",
    "child = Child()\n",
    "\n",
    "child.display_1()\n",
    "child.display_2()\n",
    "child.display_3()    "
   ]
  },
  {
   "cell_type": "markdown",
   "id": "e2c82fa9",
   "metadata": {},
   "source": [
    "#### Q4. What are getter and setter in python? Create a class and create a getter and a setter method in this class."
   ]
  },
  {
   "cell_type": "markdown",
   "id": "19c8b75b",
   "metadata": {},
   "source": [
    "getter and setter method is used to allow user to access and modify the private or protected variables respectively.we use property decorator to acheive this methods."
   ]
  },
  {
   "cell_type": "code",
   "execution_count": 30,
   "id": "228d7ddd",
   "metadata": {},
   "outputs": [],
   "source": [
    "class Person:\n",
    "    \n",
    "    def __init__(self, name , age):\n",
    "        self.name = name\n",
    "        self.__age = age\n",
    "    \n",
    "    # using property decorator\n",
    "    # a getter function\n",
    "    @property\n",
    "    def get_age(self):\n",
    "        return self.__age\n",
    "    \n",
    "    # a setter function\n",
    "    @get_age.setter\n",
    "    def set_age(self , age):\n",
    "        if age <= 0:\n",
    "            print(\"Age cannot be zero or negative\")\n",
    "        else :\n",
    "            self.__age = age"
   ]
  },
  {
   "cell_type": "code",
   "execution_count": 31,
   "id": "c670ee46",
   "metadata": {},
   "outputs": [],
   "source": [
    "person  = Person(\"tanishq\",19)"
   ]
  },
  {
   "cell_type": "code",
   "execution_count": 32,
   "id": "ebc69041",
   "metadata": {},
   "outputs": [
    {
     "data": {
      "text/plain": [
       "19"
      ]
     },
     "execution_count": 32,
     "metadata": {},
     "output_type": "execute_result"
    }
   ],
   "source": [
    "person.get_age"
   ]
  },
  {
   "cell_type": "code",
   "execution_count": 34,
   "id": "aac4a585",
   "metadata": {},
   "outputs": [
    {
     "name": "stdout",
     "output_type": "stream",
     "text": [
      "Age cannot be zero or negative\n"
     ]
    }
   ],
   "source": [
    "person.set_age = 0"
   ]
  },
  {
   "cell_type": "code",
   "execution_count": 35,
   "id": "54ed9e19",
   "metadata": {},
   "outputs": [],
   "source": [
    "person.set_age = 21"
   ]
  },
  {
   "cell_type": "code",
   "execution_count": 36,
   "id": "898ed15c",
   "metadata": {},
   "outputs": [
    {
     "data": {
      "text/plain": [
       "21"
      ]
     },
     "execution_count": 36,
     "metadata": {},
     "output_type": "execute_result"
    }
   ],
   "source": [
    "person.get_age"
   ]
  },
  {
   "cell_type": "markdown",
   "id": "ad479edc",
   "metadata": {},
   "source": [
    "#### Q5.What is method overriding in python? Write a python code to demonstrate method overriding."
   ]
  },
  {
   "cell_type": "markdown",
   "id": "876e1c2c",
   "metadata": {},
   "source": [
    "Method overriding - When a method in a subclass has the same name, same parameters or signature and same return type(or sub-type) as a method in its super-class, then the method in the subclass is said to override the method in the super-class."
   ]
  },
  {
   "cell_type": "code",
   "execution_count": 37,
   "id": "ed94cd30",
   "metadata": {},
   "outputs": [
    {
     "name": "stdout",
     "output_type": "stream",
     "text": [
      "Inside Parent\n",
      "Inside Child\n"
     ]
    }
   ],
   "source": [
    "# Defining parent class\n",
    "class Parent():\n",
    "      \n",
    "    def __init__(self):\n",
    "        self.value = \"Inside Parent\"\n",
    "          \n",
    "    # Parent's show method\n",
    "    def show(self):\n",
    "        print(self.value)\n",
    "          \n",
    "# Defining child class\n",
    "class Child(Parent):\n",
    "    \n",
    "    def __init__(self):\n",
    "        self.value = \"Inside Child\"\n",
    "          \n",
    "    # Child's show method\n",
    "    def show(self):\n",
    "        print(self.value)\n",
    "          \n",
    "          \n",
    "# Driver's code\n",
    "obj1 = Parent()\n",
    "obj2 = Child()\n",
    "  \n",
    "obj1.show()\n",
    "obj2.show()"
   ]
  },
  {
   "cell_type": "code",
   "execution_count": null,
   "id": "02146a7c",
   "metadata": {},
   "outputs": [],
   "source": []
  }
 ],
 "metadata": {
  "kernelspec": {
   "display_name": "Python 3 (ipykernel)",
   "language": "python",
   "name": "python3"
  },
  "language_info": {
   "codemirror_mode": {
    "name": "ipython",
    "version": 3
   },
   "file_extension": ".py",
   "mimetype": "text/x-python",
   "name": "python",
   "nbconvert_exporter": "python",
   "pygments_lexer": "ipython3",
   "version": "3.11.0"
  }
 },
 "nbformat": 4,
 "nbformat_minor": 5
}
