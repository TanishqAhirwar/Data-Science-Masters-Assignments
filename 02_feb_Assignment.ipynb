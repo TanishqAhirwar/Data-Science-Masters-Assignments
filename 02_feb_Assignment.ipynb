{
 "cells": [
  {
   "cell_type": "markdown",
   "id": "cd6da29e",
   "metadata": {},
   "source": [
    "#### Q1. What are the characteristics of the tuples? Is tuple immutable?"
   ]
  },
  {
   "cell_type": "markdown",
   "id": "984cfa16",
   "metadata": {},
   "source": [
    "Tuple items are ordered, unchangeable, and allow duplicate values."
   ]
  },
  {
   "cell_type": "markdown",
   "id": "45994183",
   "metadata": {},
   "source": [
    "#### Q2. What are the two tuple methods in python? Give an example of each method. Give a reason why tuples have only two in-built methods as compared to Lists."
   ]
  },
  {
   "cell_type": "markdown",
   "id": "65565084",
   "metadata": {},
   "source": [
    "count() - Returns the number of times a specific value occurs in a tuple\n",
    "\n",
    "index() - returns the position of a specified value in a tuple"
   ]
  },
  {
   "cell_type": "code",
   "execution_count": 2,
   "id": "194d598c",
   "metadata": {},
   "outputs": [
    {
     "data": {
      "text/plain": [
       "2"
      ]
     },
     "execution_count": 2,
     "metadata": {},
     "output_type": "execute_result"
    }
   ],
   "source": [
    "t1 = (1,2,3,3,5)\n",
    "t1.count(3)"
   ]
  },
  {
   "cell_type": "code",
   "execution_count": 3,
   "id": "1af77d13",
   "metadata": {},
   "outputs": [
    {
     "data": {
      "text/plain": [
       "4"
      ]
     },
     "execution_count": 3,
     "metadata": {},
     "output_type": "execute_result"
    }
   ],
   "source": [
    "t1.index(5)"
   ]
  },
  {
   "cell_type": "markdown",
   "id": "6ad65656",
   "metadata": {},
   "source": [
    "Tuple is a fixed size, and due to its immutable nature it has only 2 methods as compare to list. \n",
    "list is a variable-sized and more flexible data structure"
   ]
  },
  {
   "cell_type": "markdown",
   "id": "2f7b3a2f",
   "metadata": {},
   "source": [
    "#### Q3. Which collection datatypes in python do not allow duplicate items? Write a code using a set to remove duplicates from the given list"
   ]
  },
  {
   "cell_type": "markdown",
   "id": "44c8a1b8",
   "metadata": {},
   "source": [
    "Sets and dictionary datatypes do not allow duplicate items."
   ]
  },
  {
   "cell_type": "code",
   "execution_count": 7,
   "id": "bc57e00c",
   "metadata": {},
   "outputs": [
    {
     "data": {
      "text/plain": [
       "{1, 2, 3, 4}"
      ]
     },
     "execution_count": 7,
     "metadata": {},
     "output_type": "execute_result"
    }
   ],
   "source": [
    "List = [1, 1, 1, 2, 1, 3, 1, 4, 2, 1, 2, 2, 2, 3, 2, 4, 3, 1, 3, 2, 3, 3, 3, 4, 4, 1, 4, 2, 4, 3, 4, 4]\n",
    "set(List)"
   ]
  },
  {
   "cell_type": "markdown",
   "id": "386a8338",
   "metadata": {},
   "source": [
    "#### Q4. Explain the difference between the union() and update() methods for a set. Give an example of each method"
   ]
  },
  {
   "cell_type": "markdown",
   "id": "6d68547d",
   "metadata": {},
   "source": [
    "union() - Return a set containing the union of sets\n",
    "\n",
    "update() - Update the set with another set, or any other iterable"
   ]
  },
  {
   "cell_type": "code",
   "execution_count": 8,
   "id": "2d6628e6",
   "metadata": {},
   "outputs": [
    {
     "name": "stdout",
     "output_type": "stream",
     "text": [
      "{1, 2, 3, 4, 5, 6}\n"
     ]
    }
   ],
   "source": [
    "x = {1,2,3}\n",
    "y = {4,5,6}\n",
    "z = x.union(y)\n",
    "print(z)"
   ]
  },
  {
   "cell_type": "code",
   "execution_count": 9,
   "id": "8da6ee4c",
   "metadata": {},
   "outputs": [
    {
     "name": "stdout",
     "output_type": "stream",
     "text": [
      "{1, 2, 3, 4, 5, 6}\n"
     ]
    }
   ],
   "source": [
    "x = {1,2,3}\n",
    "y = {4,5,6}\n",
    "x.update(y)\n",
    "print(x)"
   ]
  },
  {
   "cell_type": "markdown",
   "id": "b98e3eb7",
   "metadata": {},
   "source": [
    "#### Q5. What is a dictionary? Give an example. Also, state whether a dictionary is ordered or unordered."
   ]
  },
  {
   "cell_type": "markdown",
   "id": "3689747d",
   "metadata": {},
   "source": [
    "Dictionary - Dictionary is a datatype of python which stores data as key-value pairs.\n",
    "When we say that dictionaries are ordered, it means that the items have a defined order, and that order will not change.\n",
    "Unordered means that the items does not have a defined order, you cannot refer to an item by using an index."
   ]
  },
  {
   "cell_type": "markdown",
   "id": "d2fa6262",
   "metadata": {},
   "source": [
    "#### Q6. Can we create a nested dictionary? If so, please give an example by creating a simple one-level nested dictionary."
   ]
  },
  {
   "cell_type": "code",
   "execution_count": 12,
   "id": "179373d8",
   "metadata": {},
   "outputs": [
    {
     "data": {
      "text/plain": [
       "{'student1': {'name': 'tanishq', 'class': '10th'},\n",
       " 'student2': {'name': 'anand', 'class': '10th'},\n",
       " 'student3': {'name': 'harsh', 'class': '11th'}}"
      ]
     },
     "execution_count": 12,
     "metadata": {},
     "output_type": "execute_result"
    }
   ],
   "source": [
    "Dict = {'student1': {'name': 'tanishq', 'class': '10th'},\n",
    "     'student2': {'name': 'anand', 'class': '10th'},\n",
    "     'student3': {'name': 'harsh', 'class': '11th'}}\n",
    "Dict"
   ]
  },
  {
   "cell_type": "markdown",
   "id": "3386ff03",
   "metadata": {},
   "source": [
    "#### Q7. Using setdefault() method, create key named topics in the given dictionary and also add the value of the key as this list ['Python', 'Machine Learning’, 'Deep Learning'] dict1 = {'language' : 'Python', 'course': 'Data Science Masters'}"
   ]
  },
  {
   "cell_type": "markdown",
   "id": "b88c54bc",
   "metadata": {},
   "source": [
    "#### Q8. What are the three view objects in dictionaries? Use the three in-built methods in python to display these three view objects for the given dictionary. dict1 = {'Sport': 'Cricket' , 'Teams': ['India', 'Australia', 'England', 'South Africa', 'Sri Lanka', 'New Zealand']}"
   ]
  },
  {
   "cell_type": "markdown",
   "id": "a48b2c88",
   "metadata": {},
   "source": [
    "The three view objects of dictionary in python are keys, values and items"
   ]
  },
  {
   "cell_type": "code",
   "execution_count": 19,
   "id": "529bfbb8",
   "metadata": {},
   "outputs": [
    {
     "data": {
      "text/plain": [
       "dict_keys(['Sport', 'Teams'])"
      ]
     },
     "execution_count": 19,
     "metadata": {},
     "output_type": "execute_result"
    }
   ],
   "source": [
    "dict1 = {'Sport': 'Cricket' , 'Teams': ['India', 'Australia', 'England', 'South Africa', 'Sri Lanka', 'New Zealand']}\n",
    "dict1.keys()"
   ]
  },
  {
   "cell_type": "code",
   "execution_count": 20,
   "id": "c0210f81",
   "metadata": {},
   "outputs": [
    {
     "data": {
      "text/plain": [
       "dict_values(['Cricket', ['India', 'Australia', 'England', 'South Africa', 'Sri Lanka', 'New Zealand']])"
      ]
     },
     "execution_count": 20,
     "metadata": {},
     "output_type": "execute_result"
    }
   ],
   "source": [
    "dict1.values()"
   ]
  },
  {
   "cell_type": "code",
   "execution_count": 21,
   "id": "b3954718",
   "metadata": {},
   "outputs": [
    {
     "data": {
      "text/plain": [
       "dict_items([('Sport', 'Cricket'), ('Teams', ['India', 'Australia', 'England', 'South Africa', 'Sri Lanka', 'New Zealand'])])"
      ]
     },
     "execution_count": 21,
     "metadata": {},
     "output_type": "execute_result"
    }
   ],
   "source": [
    "dict1.items()"
   ]
  },
  {
   "cell_type": "code",
   "execution_count": null,
   "id": "a87fa92f",
   "metadata": {},
   "outputs": [],
   "source": []
  }
 ],
 "metadata": {
  "kernelspec": {
   "display_name": "Python 3 (ipykernel)",
   "language": "python",
   "name": "python3"
  },
  "language_info": {
   "codemirror_mode": {
    "name": "ipython",
    "version": 3
   },
   "file_extension": ".py",
   "mimetype": "text/x-python",
   "name": "python",
   "nbconvert_exporter": "python",
   "pygments_lexer": "ipython3",
   "version": "3.11.0"
  }
 },
 "nbformat": 4,
 "nbformat_minor": 5
}
