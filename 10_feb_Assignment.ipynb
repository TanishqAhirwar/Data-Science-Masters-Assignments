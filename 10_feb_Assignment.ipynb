{
 "cells": [
  {
   "cell_type": "markdown",
   "id": "a092faa9",
   "metadata": {},
   "source": [
    "### Q1. Which function is used to open a file? What are the different modes of opening a file? Explain each mode of file opening"
   ]
  },
  {
   "cell_type": "markdown",
   "id": "db8c0d34",
   "metadata": {},
   "source": [
    "Opening Files in Python\n",
    "\n",
    "In Python, we use the open() method to open files.\n",
    "\n",
    "To demonstrate how we open files in Python, let's suppose we have a file named test.txt with the following content."
   ]
  },
  {
   "cell_type": "markdown",
   "id": "5da3bb53",
   "metadata": {},
   "source": [
    "Now, let's try to open data from this file using the open() function.\n",
    "\n",
    "open file in current directory\n"
   ]
  },
  {
   "cell_type": "markdown",
   "id": "ebef1b3a",
   "metadata": {},
   "source": [
    "file1 = open(\"test.txt\")"
   ]
  },
  {
   "cell_type": "markdown",
   "id": "729513da",
   "metadata": {},
   "source": [
    "Here, we have created a file object named file1. This object can be used to work with files and directories.\n",
    "\n",
    "By default, the files are open in read mode (cannot be modified). The code above is equivalent to"
   ]
  },
  {
   "cell_type": "markdown",
   "id": "b829a25c",
   "metadata": {},
   "source": [
    "file1 = open(\"test.txt\", \"r\")\n",
    "\n",
    "Here, we have explicitly specified the mode by passing the \"r\" argument which means file is opened for reading."
   ]
  },
  {
   "cell_type": "markdown",
   "id": "b7888dd9",
   "metadata": {},
   "source": [
    "Different Modes to Open a File in Python\n",
    "\n",
    "\t\t\n",
    "\t\t\t\n",
    "\t\t\t\tMode\n",
    "\t\t\t\t\tDescription\n",
    "\t\t\t\n",
    "\n",
    "\t\t\t\n",
    "\t\t\t\tr\n",
    "\t\t\t\t\tOpen a file for reading. (default)\n",
    "\t\t\t\n",
    "\n",
    "\t\t\t\n",
    "\t\t\t\tw\n",
    "\t\t\t\t\tOpen a file for writing. Creates a new file if it does not exist or truncates the file if it exists.\n",
    "\t\t\t\n",
    "\n",
    "\t\t\t\n",
    "\t\t\t\tx\n",
    "\t\t\t\t\tOpen a file for exclusive creation. If the file already exists, the operation fails.\n",
    "\t\t\t\n",
    "\n",
    "\t\t\t\n",
    "\t\t\t\ta\n",
    "\t\t\t\t\tOpen a file for appending at the end of the file without truncating it. Creates a new file if it does not exist.\n",
    "\t\t\t\n",
    "\n",
    "\t\t\t\n",
    "\t\t\t\tt\n",
    "\t\t\t\t\tOpen in text mode. (default)\n",
    "\t\t\t\n",
    "\n",
    "\t\t\t\n",
    "\t\t\t\tb\n",
    "\t\t\t\t\tOpen in binary mode.\n",
    "\t\t\t\n",
    "\n",
    "\t\t\t\n",
    "\t\t\t\t+\n",
    "\t\t\t\t\tOpen a file for updating (reading and writing)"
   ]
  },
  {
   "cell_type": "raw",
   "id": "796710b5",
   "metadata": {},
   "source": [
    "few simple examples of how to open a file in different modes,\n",
    "\n",
    "file1 = open(\"test.txt\")      # equivalent to 'r' or 'rt'\n",
    "file1 = open(\"test.txt\",'w')  # write in text mode\n",
    "file1 = open(\"img.bmp\",'r+b') # read and write in binary mode"
   ]
  },
  {
   "cell_type": "markdown",
   "id": "48d5a410",
   "metadata": {},
   "source": [
    "### Q2. Why close() function is used? Why is it important to close a file?"
   ]
  },
  {
   "cell_type": "raw",
   "id": "454ee3a9",
   "metadata": {},
   "source": [
    "Close a file after it has been opened:\n",
    "f = open(\"demofile.txt\", \"r\")\n",
    "print(f.read())\n",
    "f.close()"
   ]
  },
  {
   "cell_type": "markdown",
   "id": "869a7090",
   "metadata": {},
   "source": [
    "Definition and Usage\n",
    "\n",
    "The close() method closes an open file.\n",
    "\n",
    "We should always close our files, in some cases, due to buffering, changes made to a file may not show until our close the file."
   ]
  },
  {
   "cell_type": "markdown",
   "id": "30cf2991",
   "metadata": {},
   "source": [
    "### Q3. Write a python program to create a text file. Write ‘I want to become a Data Scientist’ in that file. Then close the file. Open this file and read the content of the file."
   ]
  },
  {
   "cell_type": "code",
   "execution_count": 6,
   "id": "0ca16ed3",
   "metadata": {},
   "outputs": [],
   "source": [
    "# Create a text file and write content to it\n",
    "file_name = \"data_scientist.txt\""
   ]
  },
  {
   "cell_type": "code",
   "execution_count": 7,
   "id": "391d290c",
   "metadata": {},
   "outputs": [],
   "source": [
    "# Open the file in write mode ('w')\n",
    "with open(file_name, 'w') as file:\n",
    "    file.write('I want to become a Data Scientist')"
   ]
  },
  {
   "cell_type": "code",
   "execution_count": 10,
   "id": "0e7a98e1",
   "metadata": {},
   "outputs": [],
   "source": [
    " # Open the file in read mode ('r')\n",
    "with open(file_name, 'r') as file:\n",
    "    file_contents = file.read()"
   ]
  },
  {
   "cell_type": "code",
   "execution_count": 11,
   "id": "bd896701",
   "metadata": {},
   "outputs": [
    {
     "name": "stdout",
     "output_type": "stream",
     "text": [
      "Content of the file:\n",
      "I want to become a Data Scientist\n"
     ]
    }
   ],
   "source": [
    "# Print the contents of the file\n",
    "print(\"Content of the file:\")\n",
    "print(file_contents)"
   ]
  },
  {
   "cell_type": "markdown",
   "id": "b6c68f97",
   "metadata": {},
   "source": [
    "### Q4. Explain the following with python code: read(), readline() and readlines()"
   ]
  },
  {
   "cell_type": "markdown",
   "id": "21749c14",
   "metadata": {},
   "source": [
    "read(): This method reads the entire content of the file as a single string."
   ]
  },
  {
   "cell_type": "code",
   "execution_count": 18,
   "id": "4487b754",
   "metadata": {},
   "outputs": [
    {
     "name": "stdout",
     "output_type": "stream",
     "text": [
      "Predictive analysis uses historical data to make accurate forecasts about data patterns that may occur in the future. It is characterized by techniques such as machine learning, forecasting, pattern matching, and predictive modeling. In each of these techniques, computers are trained to reverse engineer causality connections in the data.For example, the flight service team might use data science to predict flight booking patterns for the coming year at the start of each year. The computer program or algorithm may look at past data and predict booking spikes for certain destinations in May. Having anticipated their customerâ€™s future travel requirements, the company could start targeted advertising for those cities from February.\n"
     ]
    }
   ],
   "source": [
    "# Open a file in read mode\n",
    "with open('file.txt', 'r') as file:\n",
    "    file_content = file.read()\n",
    "    print(file_content)"
   ]
  },
  {
   "cell_type": "markdown",
   "id": "77186110",
   "metadata": {},
   "source": [
    "In this example, the read() method reads the entire content of the file 'example.txt' and stores it in the variable file_content. It returns the contents of the file as a single string, which can then be processed or printed."
   ]
  },
  {
   "cell_type": "markdown",
   "id": "1ac83f51",
   "metadata": {},
   "source": [
    "readline(): This method reads the file line by line and returns one line at a time as a string. It allows you to process the file content line by line."
   ]
  },
  {
   "cell_type": "code",
   "execution_count": 20,
   "id": "1bc0d2fa",
   "metadata": {},
   "outputs": [
    {
     "name": "stdout",
     "output_type": "stream",
     "text": [
      "Line 1: Predictive analysis uses historical data to make accurate forecasts about data patterns that may occur in the future. It is characterized by techniques such as machine learning, forecasting, pattern matching, and predictive modeling. In each of these techniques, computers are trained to reverse engineer causality connections in the data.For example, the flight service team might use data science to predict flight booking patterns for the coming year at the start of each year. The computer program or algorithm may look at past data and predict booking spikes for certain destinations in May. Having anticipated their customerâ€™s future travel requirements, the company could start targeted advertising for those cities from February.\n",
      "Line 2: \n"
     ]
    }
   ],
   "source": [
    "# Open a file in read mode\n",
    "with open('file.txt', 'r') as file:\n",
    "    line1 = file.readline()\n",
    "    line2 = file.readline()\n",
    "    print(\"Line 1:\", line1)\n",
    "    print(\"Line 2:\", line2)"
   ]
  },
  {
   "cell_type": "markdown",
   "id": "9a6dd5ec",
   "metadata": {},
   "source": [
    "In this example, readline() is used to read the first two lines of the file 'example.txt'. Each call to readline() returns the next line in the file, and the content is stored in separate variables."
   ]
  },
  {
   "cell_type": "markdown",
   "id": "9ee1d721",
   "metadata": {},
   "source": [
    "readlines(): This method reads all lines in the file and returns them as a list of strings, where each string represents one line of the file."
   ]
  },
  {
   "cell_type": "code",
   "execution_count": 22,
   "id": "4b2f55d2",
   "metadata": {},
   "outputs": [
    {
     "name": "stdout",
     "output_type": "stream",
     "text": [
      "Predictive analysis uses historical data to make accurate forecasts about data patterns that may occur in the future. It is characterized by techniques such as machine learning, forecasting, pattern matching, and predictive modeling. In each of these techniques, computers are trained to reverse engineer causality connections in the data.For example, the flight service team might use data science to predict flight booking patterns for the coming year at the start of each year. The computer program or algorithm may look at past data and predict booking spikes for certain destinations in May. Having anticipated their customerâ€™s future travel requirements, the company could start targeted advertising for those cities from February.\n"
     ]
    }
   ],
   "source": [
    "# Open a file in read mode\n",
    "with open('file.txt', 'r') as file:\n",
    "    lines = file.readlines()\n",
    "    for line in lines:\n",
    "        print(line.strip())  # Strip to remove trailing newline characters"
   ]
  },
  {
   "cell_type": "markdown",
   "id": "93f591bc",
   "metadata": {},
   "source": [
    "In this example, readlines() is used to read all the lines in the file 'example.txt'. The lines are stored in a list called lines, and then you can iterate through the list to process each line individually.\n",
    "\n",
    "These methods provide flexibility in how you read and process the content of text files in Python, allowing you to choose the most suitable approach for your specific needs."
   ]
  },
  {
   "cell_type": "markdown",
   "id": "6269f18d",
   "metadata": {},
   "source": [
    "### Q5. Explain why with statement is used with open(). What is the advantage of using with statement and open() together?"
   ]
  },
  {
   "cell_type": "markdown",
   "id": "fa2dcf71",
   "metadata": {},
   "source": [
    "The `with` statement in Python is used in conjunction with the `open()` function when working with files. It is used for a specific purpose: to simplify file I/O (input/output) operations, ensure proper file handling, and manage resources efficiently. The primary advantage of using the `with` statement with `open()` is that it provides a context manager, which automatically takes care of opening and closing files. Here's why it's beneficial:\n",
    "\n",
    "1.Automatic File Closing: When you use `with open()`, Python takes care of opening the file in the specified mode (e.g., read, write, append) and, most importantly, automatically closes the file when you're done with it or when an exception occurs. This ensures that the file is properly closed, preventing resource leaks and potential data corruption.\n",
    "\n",
    "2.Exception Handling: The `with` statement also handles exceptions gracefully. If an exception occurs within the `with` block, Python will still ensure that the file is closed properly before propagating the exception. This helps maintain data integrity and avoids leaving files in an open state.\n",
    "\n",
    "3.Cleaner and More Readable Code: Using the `with` statement makes your code cleaner and more readable. It clearly defines the scope in which the file is used, and you don't need to explicitly call `file.close()`, reducing the chances of forgetting to close the file.\n",
    "\n",
    "Here's an example to illustrate the use of `with` and `open()` together:\n",
    "\n",
    "Without using with statement\n",
    "file = open('example.txt', 'r')\n",
    "try:\n",
    "    content = file.read()\n",
    "    # Process the content\n",
    "finally:\n",
    "    file.close()\n",
    "\n",
    "Using with statement\n",
    "with open('example.txt', 'r') as file:\n",
    "    content = file.read()\n",
    "    # Process the content\n",
    "    \n",
    "File is automatically closed when the 'with' block exits\n",
    "\n",
    "\n",
    "In the first approach (without `with`), you have to manually open the file, read its content, and then ensure that you close the file, even in the case of an exception. The second approach (with `with`) simplifies the code by handling file open and close operations automatically, making your code more concise and less error-prone. This is why using `with` and `open()` together is the recommended way to work with files in Python."
   ]
  },
  {
   "cell_type": "markdown",
   "id": "940e11f6",
   "metadata": {},
   "source": [
    "### Q6. Explain the write() and writelines() functions. Give a suitable example."
   ]
  },
  {
   "cell_type": "markdown",
   "id": "97472121",
   "metadata": {},
   "source": [
    "write() Function:\n",
    "\n",
    "The write() function is used to write a single string to a text file.\n",
    "It is typically used to add content to a file or overwrite the existing content if the file is opened in write mode ('w').\n",
    "If the file does not exist, it will be created."
   ]
  },
  {
   "cell_type": "code",
   "execution_count": 23,
   "id": "1a1eae6b",
   "metadata": {},
   "outputs": [],
   "source": [
    "# Open a file in write mode\n",
    "with open('example.txt', 'w') as file:\n",
    "    file.write('Hello, World!\\n')\n",
    "    file.write('This is a sample text.')"
   ]
  },
  {
   "cell_type": "markdown",
   "id": "14ffe63d",
   "metadata": {},
   "source": [
    "In this example, we open a file in write mode and use the write() function to add two lines of text to the file. If 'example.txt' already exists, its previous content will be overwritten."
   ]
  },
  {
   "cell_type": "markdown",
   "id": "10ca0f7f",
   "metadata": {},
   "source": [
    "writelines() Function:\n",
    "\n",
    "The writelines() function is used to write a list of strings to a text file.\n",
    "Each string in the list represents a line of text, and they are written to the file one after the other.\n",
    "It does not add newline characters by default, so you need to include them if you want each line to end with a newline character."
   ]
  },
  {
   "cell_type": "code",
   "execution_count": 24,
   "id": "635a6d09",
   "metadata": {},
   "outputs": [],
   "source": [
    "# Open a file in write mode\n",
    "lines_to_write = ['Line 1\\n', 'Line 2\\n', 'Line 3\\n']\n",
    "with open('example.txt', 'w') as file:\n",
    "    file.writelines(lines_to_write)"
   ]
  },
  {
   "cell_type": "markdown",
   "id": "b727627b",
   "metadata": {},
   "source": [
    "In this example, we open a file in write mode and use the writelines() function to write a list of lines to the file. We include '\\n' (newline) characters at the end of each line to separate them properly.\n",
    "\n",
    "After running these examples, the 'example.txt' file will contain the specified text.\n",
    "\n",
    "It's important to note that both write() and writelines() functions do not automatically add newline characters ('\\n') at the end of each line, so you need to include them explicitly if you want line breaks in the file. Additionally, when working with text files, remember to use 'w' mode for writing to overwrite the file or 'a' mode for appending to an existing file, depending on your requirements."
   ]
  },
  {
   "cell_type": "code",
   "execution_count": null,
   "id": "db18a7ae",
   "metadata": {},
   "outputs": [],
   "source": []
  }
 ],
 "metadata": {
  "kernelspec": {
   "display_name": "Python 3 (ipykernel)",
   "language": "python",
   "name": "python3"
  },
  "language_info": {
   "codemirror_mode": {
    "name": "ipython",
    "version": 3
   },
   "file_extension": ".py",
   "mimetype": "text/x-python",
   "name": "python",
   "nbconvert_exporter": "python",
   "pygments_lexer": "ipython3",
   "version": "3.11.0"
  }
 },
 "nbformat": 4,
 "nbformat_minor": 5
}
